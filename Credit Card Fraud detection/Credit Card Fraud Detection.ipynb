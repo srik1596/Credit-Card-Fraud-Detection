{
 "cells": [
  {
   "cell_type": "markdown",
   "id": "c51ed0b8-35ec-4607-bdc8-5adccd3b6af2",
   "metadata": {},
   "source": [
    "# Credit Card Fraud Detection"
   ]
  },
  {
   "cell_type": "markdown",
   "id": "7921e2c1-f84f-41b4-a64f-710c399b1965",
   "metadata": {},
   "source": [
    "## Importing all required libraries:"
   ]
  },
  {
   "cell_type": "code",
   "execution_count": 3,
   "id": "a6410f1a-31aa-4215-aa55-37081d31f9f1",
   "metadata": {},
   "outputs": [],
   "source": [
    "import pandas as pd\n",
    "import numpy as np\n",
    "import matplotlib.pyplot as plt\n",
    "import seaborn as sns\n",
    "from sklearn.model_selection import train_test_split\n",
    "from sklearn.metrics import accuracy_score\n",
    "from sklearn.preprocessing import StandardScaler\n",
    "import warnings\n",
    "warnings.filterwarnings('ignore')"
   ]
  },
  {
   "cell_type": "markdown",
   "id": "0e4bf0b2-ef3a-49fd-aa35-811a9da714c8",
   "metadata": {},
   "source": [
    "## Load the dataset:"
   ]
  },
  {
   "cell_type": "code",
   "execution_count": 5,
   "id": "e158ec02-c69a-4ed9-9af0-2f3f413baefb",
   "metadata": {},
   "outputs": [],
   "source": [
    "df= pd.read_csv(\"creditcard.csv\")"
   ]
  },
  {
   "cell_type": "code",
   "execution_count": 6,
   "id": "171ac781-6a11-4da5-bbd7-102ce2ff8347",
   "metadata": {},
   "outputs": [
    {
     "data": {
      "text/html": [
       "<div>\n",
       "<style scoped>\n",
       "    .dataframe tbody tr th:only-of-type {\n",
       "        vertical-align: middle;\n",
       "    }\n",
       "\n",
       "    .dataframe tbody tr th {\n",
       "        vertical-align: top;\n",
       "    }\n",
       "\n",
       "    .dataframe thead th {\n",
       "        text-align: right;\n",
       "    }\n",
       "</style>\n",
       "<table border=\"1\" class=\"dataframe\">\n",
       "  <thead>\n",
       "    <tr style=\"text-align: right;\">\n",
       "      <th></th>\n",
       "      <th>Time</th>\n",
       "      <th>V1</th>\n",
       "      <th>V2</th>\n",
       "      <th>V3</th>\n",
       "      <th>V4</th>\n",
       "      <th>V5</th>\n",
       "      <th>V6</th>\n",
       "      <th>V7</th>\n",
       "      <th>V8</th>\n",
       "      <th>V9</th>\n",
       "      <th>...</th>\n",
       "      <th>V21</th>\n",
       "      <th>V22</th>\n",
       "      <th>V23</th>\n",
       "      <th>V24</th>\n",
       "      <th>V25</th>\n",
       "      <th>V26</th>\n",
       "      <th>V27</th>\n",
       "      <th>V28</th>\n",
       "      <th>Amount</th>\n",
       "      <th>Class</th>\n",
       "    </tr>\n",
       "  </thead>\n",
       "  <tbody>\n",
       "    <tr>\n",
       "      <th>0</th>\n",
       "      <td>0.0</td>\n",
       "      <td>-1.359807</td>\n",
       "      <td>-0.072781</td>\n",
       "      <td>2.536347</td>\n",
       "      <td>1.378155</td>\n",
       "      <td>-0.338321</td>\n",
       "      <td>0.462388</td>\n",
       "      <td>0.239599</td>\n",
       "      <td>0.098698</td>\n",
       "      <td>0.363787</td>\n",
       "      <td>...</td>\n",
       "      <td>-0.018307</td>\n",
       "      <td>0.277838</td>\n",
       "      <td>-0.110474</td>\n",
       "      <td>0.066928</td>\n",
       "      <td>0.128539</td>\n",
       "      <td>-0.189115</td>\n",
       "      <td>0.133558</td>\n",
       "      <td>-0.021053</td>\n",
       "      <td>149.62</td>\n",
       "      <td>0</td>\n",
       "    </tr>\n",
       "    <tr>\n",
       "      <th>1</th>\n",
       "      <td>0.0</td>\n",
       "      <td>1.191857</td>\n",
       "      <td>0.266151</td>\n",
       "      <td>0.166480</td>\n",
       "      <td>0.448154</td>\n",
       "      <td>0.060018</td>\n",
       "      <td>-0.082361</td>\n",
       "      <td>-0.078803</td>\n",
       "      <td>0.085102</td>\n",
       "      <td>-0.255425</td>\n",
       "      <td>...</td>\n",
       "      <td>-0.225775</td>\n",
       "      <td>-0.638672</td>\n",
       "      <td>0.101288</td>\n",
       "      <td>-0.339846</td>\n",
       "      <td>0.167170</td>\n",
       "      <td>0.125895</td>\n",
       "      <td>-0.008983</td>\n",
       "      <td>0.014724</td>\n",
       "      <td>2.69</td>\n",
       "      <td>0</td>\n",
       "    </tr>\n",
       "    <tr>\n",
       "      <th>2</th>\n",
       "      <td>1.0</td>\n",
       "      <td>-1.358354</td>\n",
       "      <td>-1.340163</td>\n",
       "      <td>1.773209</td>\n",
       "      <td>0.379780</td>\n",
       "      <td>-0.503198</td>\n",
       "      <td>1.800499</td>\n",
       "      <td>0.791461</td>\n",
       "      <td>0.247676</td>\n",
       "      <td>-1.514654</td>\n",
       "      <td>...</td>\n",
       "      <td>0.247998</td>\n",
       "      <td>0.771679</td>\n",
       "      <td>0.909412</td>\n",
       "      <td>-0.689281</td>\n",
       "      <td>-0.327642</td>\n",
       "      <td>-0.139097</td>\n",
       "      <td>-0.055353</td>\n",
       "      <td>-0.059752</td>\n",
       "      <td>378.66</td>\n",
       "      <td>0</td>\n",
       "    </tr>\n",
       "    <tr>\n",
       "      <th>3</th>\n",
       "      <td>1.0</td>\n",
       "      <td>-0.966272</td>\n",
       "      <td>-0.185226</td>\n",
       "      <td>1.792993</td>\n",
       "      <td>-0.863291</td>\n",
       "      <td>-0.010309</td>\n",
       "      <td>1.247203</td>\n",
       "      <td>0.237609</td>\n",
       "      <td>0.377436</td>\n",
       "      <td>-1.387024</td>\n",
       "      <td>...</td>\n",
       "      <td>-0.108300</td>\n",
       "      <td>0.005274</td>\n",
       "      <td>-0.190321</td>\n",
       "      <td>-1.175575</td>\n",
       "      <td>0.647376</td>\n",
       "      <td>-0.221929</td>\n",
       "      <td>0.062723</td>\n",
       "      <td>0.061458</td>\n",
       "      <td>123.50</td>\n",
       "      <td>0</td>\n",
       "    </tr>\n",
       "    <tr>\n",
       "      <th>4</th>\n",
       "      <td>2.0</td>\n",
       "      <td>-1.158233</td>\n",
       "      <td>0.877737</td>\n",
       "      <td>1.548718</td>\n",
       "      <td>0.403034</td>\n",
       "      <td>-0.407193</td>\n",
       "      <td>0.095921</td>\n",
       "      <td>0.592941</td>\n",
       "      <td>-0.270533</td>\n",
       "      <td>0.817739</td>\n",
       "      <td>...</td>\n",
       "      <td>-0.009431</td>\n",
       "      <td>0.798278</td>\n",
       "      <td>-0.137458</td>\n",
       "      <td>0.141267</td>\n",
       "      <td>-0.206010</td>\n",
       "      <td>0.502292</td>\n",
       "      <td>0.219422</td>\n",
       "      <td>0.215153</td>\n",
       "      <td>69.99</td>\n",
       "      <td>0</td>\n",
       "    </tr>\n",
       "  </tbody>\n",
       "</table>\n",
       "<p>5 rows × 31 columns</p>\n",
       "</div>"
      ],
      "text/plain": [
       "   Time        V1        V2        V3        V4        V5        V6        V7  \\\n",
       "0   0.0 -1.359807 -0.072781  2.536347  1.378155 -0.338321  0.462388  0.239599   \n",
       "1   0.0  1.191857  0.266151  0.166480  0.448154  0.060018 -0.082361 -0.078803   \n",
       "2   1.0 -1.358354 -1.340163  1.773209  0.379780 -0.503198  1.800499  0.791461   \n",
       "3   1.0 -0.966272 -0.185226  1.792993 -0.863291 -0.010309  1.247203  0.237609   \n",
       "4   2.0 -1.158233  0.877737  1.548718  0.403034 -0.407193  0.095921  0.592941   \n",
       "\n",
       "         V8        V9  ...       V21       V22       V23       V24       V25  \\\n",
       "0  0.098698  0.363787  ... -0.018307  0.277838 -0.110474  0.066928  0.128539   \n",
       "1  0.085102 -0.255425  ... -0.225775 -0.638672  0.101288 -0.339846  0.167170   \n",
       "2  0.247676 -1.514654  ...  0.247998  0.771679  0.909412 -0.689281 -0.327642   \n",
       "3  0.377436 -1.387024  ... -0.108300  0.005274 -0.190321 -1.175575  0.647376   \n",
       "4 -0.270533  0.817739  ... -0.009431  0.798278 -0.137458  0.141267 -0.206010   \n",
       "\n",
       "        V26       V27       V28  Amount  Class  \n",
       "0 -0.189115  0.133558 -0.021053  149.62      0  \n",
       "1  0.125895 -0.008983  0.014724    2.69      0  \n",
       "2 -0.139097 -0.055353 -0.059752  378.66      0  \n",
       "3 -0.221929  0.062723  0.061458  123.50      0  \n",
       "4  0.502292  0.219422  0.215153   69.99      0  \n",
       "\n",
       "[5 rows x 31 columns]"
      ]
     },
     "execution_count": 6,
     "metadata": {},
     "output_type": "execute_result"
    }
   ],
   "source": [
    "# Check first 5 rows from dataset\n",
    "df.head()"
   ]
  },
  {
   "cell_type": "code",
   "execution_count": 7,
   "id": "03e92f0d-98ae-4ab5-858c-1007af2de3d3",
   "metadata": {},
   "outputs": [
    {
     "data": {
      "text/html": [
       "<div>\n",
       "<style scoped>\n",
       "    .dataframe tbody tr th:only-of-type {\n",
       "        vertical-align: middle;\n",
       "    }\n",
       "\n",
       "    .dataframe tbody tr th {\n",
       "        vertical-align: top;\n",
       "    }\n",
       "\n",
       "    .dataframe thead th {\n",
       "        text-align: right;\n",
       "    }\n",
       "</style>\n",
       "<table border=\"1\" class=\"dataframe\">\n",
       "  <thead>\n",
       "    <tr style=\"text-align: right;\">\n",
       "      <th></th>\n",
       "      <th>Time</th>\n",
       "      <th>V1</th>\n",
       "      <th>V2</th>\n",
       "      <th>V3</th>\n",
       "      <th>V4</th>\n",
       "      <th>V5</th>\n",
       "      <th>V6</th>\n",
       "      <th>V7</th>\n",
       "      <th>V8</th>\n",
       "      <th>V9</th>\n",
       "      <th>...</th>\n",
       "      <th>V21</th>\n",
       "      <th>V22</th>\n",
       "      <th>V23</th>\n",
       "      <th>V24</th>\n",
       "      <th>V25</th>\n",
       "      <th>V26</th>\n",
       "      <th>V27</th>\n",
       "      <th>V28</th>\n",
       "      <th>Amount</th>\n",
       "      <th>Class</th>\n",
       "    </tr>\n",
       "  </thead>\n",
       "  <tbody>\n",
       "    <tr>\n",
       "      <th>284802</th>\n",
       "      <td>172786.0</td>\n",
       "      <td>-11.881118</td>\n",
       "      <td>10.071785</td>\n",
       "      <td>-9.834783</td>\n",
       "      <td>-2.066656</td>\n",
       "      <td>-5.364473</td>\n",
       "      <td>-2.606837</td>\n",
       "      <td>-4.918215</td>\n",
       "      <td>7.305334</td>\n",
       "      <td>1.914428</td>\n",
       "      <td>...</td>\n",
       "      <td>0.213454</td>\n",
       "      <td>0.111864</td>\n",
       "      <td>1.014480</td>\n",
       "      <td>-0.509348</td>\n",
       "      <td>1.436807</td>\n",
       "      <td>0.250034</td>\n",
       "      <td>0.943651</td>\n",
       "      <td>0.823731</td>\n",
       "      <td>0.77</td>\n",
       "      <td>0</td>\n",
       "    </tr>\n",
       "    <tr>\n",
       "      <th>284803</th>\n",
       "      <td>172787.0</td>\n",
       "      <td>-0.732789</td>\n",
       "      <td>-0.055080</td>\n",
       "      <td>2.035030</td>\n",
       "      <td>-0.738589</td>\n",
       "      <td>0.868229</td>\n",
       "      <td>1.058415</td>\n",
       "      <td>0.024330</td>\n",
       "      <td>0.294869</td>\n",
       "      <td>0.584800</td>\n",
       "      <td>...</td>\n",
       "      <td>0.214205</td>\n",
       "      <td>0.924384</td>\n",
       "      <td>0.012463</td>\n",
       "      <td>-1.016226</td>\n",
       "      <td>-0.606624</td>\n",
       "      <td>-0.395255</td>\n",
       "      <td>0.068472</td>\n",
       "      <td>-0.053527</td>\n",
       "      <td>24.79</td>\n",
       "      <td>0</td>\n",
       "    </tr>\n",
       "    <tr>\n",
       "      <th>284804</th>\n",
       "      <td>172788.0</td>\n",
       "      <td>1.919565</td>\n",
       "      <td>-0.301254</td>\n",
       "      <td>-3.249640</td>\n",
       "      <td>-0.557828</td>\n",
       "      <td>2.630515</td>\n",
       "      <td>3.031260</td>\n",
       "      <td>-0.296827</td>\n",
       "      <td>0.708417</td>\n",
       "      <td>0.432454</td>\n",
       "      <td>...</td>\n",
       "      <td>0.232045</td>\n",
       "      <td>0.578229</td>\n",
       "      <td>-0.037501</td>\n",
       "      <td>0.640134</td>\n",
       "      <td>0.265745</td>\n",
       "      <td>-0.087371</td>\n",
       "      <td>0.004455</td>\n",
       "      <td>-0.026561</td>\n",
       "      <td>67.88</td>\n",
       "      <td>0</td>\n",
       "    </tr>\n",
       "    <tr>\n",
       "      <th>284805</th>\n",
       "      <td>172788.0</td>\n",
       "      <td>-0.240440</td>\n",
       "      <td>0.530483</td>\n",
       "      <td>0.702510</td>\n",
       "      <td>0.689799</td>\n",
       "      <td>-0.377961</td>\n",
       "      <td>0.623708</td>\n",
       "      <td>-0.686180</td>\n",
       "      <td>0.679145</td>\n",
       "      <td>0.392087</td>\n",
       "      <td>...</td>\n",
       "      <td>0.265245</td>\n",
       "      <td>0.800049</td>\n",
       "      <td>-0.163298</td>\n",
       "      <td>0.123205</td>\n",
       "      <td>-0.569159</td>\n",
       "      <td>0.546668</td>\n",
       "      <td>0.108821</td>\n",
       "      <td>0.104533</td>\n",
       "      <td>10.00</td>\n",
       "      <td>0</td>\n",
       "    </tr>\n",
       "    <tr>\n",
       "      <th>284806</th>\n",
       "      <td>172792.0</td>\n",
       "      <td>-0.533413</td>\n",
       "      <td>-0.189733</td>\n",
       "      <td>0.703337</td>\n",
       "      <td>-0.506271</td>\n",
       "      <td>-0.012546</td>\n",
       "      <td>-0.649617</td>\n",
       "      <td>1.577006</td>\n",
       "      <td>-0.414650</td>\n",
       "      <td>0.486180</td>\n",
       "      <td>...</td>\n",
       "      <td>0.261057</td>\n",
       "      <td>0.643078</td>\n",
       "      <td>0.376777</td>\n",
       "      <td>0.008797</td>\n",
       "      <td>-0.473649</td>\n",
       "      <td>-0.818267</td>\n",
       "      <td>-0.002415</td>\n",
       "      <td>0.013649</td>\n",
       "      <td>217.00</td>\n",
       "      <td>0</td>\n",
       "    </tr>\n",
       "  </tbody>\n",
       "</table>\n",
       "<p>5 rows × 31 columns</p>\n",
       "</div>"
      ],
      "text/plain": [
       "            Time         V1         V2        V3        V4        V5  \\\n",
       "284802  172786.0 -11.881118  10.071785 -9.834783 -2.066656 -5.364473   \n",
       "284803  172787.0  -0.732789  -0.055080  2.035030 -0.738589  0.868229   \n",
       "284804  172788.0   1.919565  -0.301254 -3.249640 -0.557828  2.630515   \n",
       "284805  172788.0  -0.240440   0.530483  0.702510  0.689799 -0.377961   \n",
       "284806  172792.0  -0.533413  -0.189733  0.703337 -0.506271 -0.012546   \n",
       "\n",
       "              V6        V7        V8        V9  ...       V21       V22  \\\n",
       "284802 -2.606837 -4.918215  7.305334  1.914428  ...  0.213454  0.111864   \n",
       "284803  1.058415  0.024330  0.294869  0.584800  ...  0.214205  0.924384   \n",
       "284804  3.031260 -0.296827  0.708417  0.432454  ...  0.232045  0.578229   \n",
       "284805  0.623708 -0.686180  0.679145  0.392087  ...  0.265245  0.800049   \n",
       "284806 -0.649617  1.577006 -0.414650  0.486180  ...  0.261057  0.643078   \n",
       "\n",
       "             V23       V24       V25       V26       V27       V28  Amount  \\\n",
       "284802  1.014480 -0.509348  1.436807  0.250034  0.943651  0.823731    0.77   \n",
       "284803  0.012463 -1.016226 -0.606624 -0.395255  0.068472 -0.053527   24.79   \n",
       "284804 -0.037501  0.640134  0.265745 -0.087371  0.004455 -0.026561   67.88   \n",
       "284805 -0.163298  0.123205 -0.569159  0.546668  0.108821  0.104533   10.00   \n",
       "284806  0.376777  0.008797 -0.473649 -0.818267 -0.002415  0.013649  217.00   \n",
       "\n",
       "        Class  \n",
       "284802      0  \n",
       "284803      0  \n",
       "284804      0  \n",
       "284805      0  \n",
       "284806      0  \n",
       "\n",
       "[5 rows x 31 columns]"
      ]
     },
     "execution_count": 7,
     "metadata": {},
     "output_type": "execute_result"
    }
   ],
   "source": [
    "# Check last 5 rows from dataset\n",
    "df.tail()"
   ]
  },
  {
   "cell_type": "code",
   "execution_count": 8,
   "id": "9253890e-61e2-45d5-86d1-2fec0534a9db",
   "metadata": {},
   "outputs": [
    {
     "name": "stdout",
     "output_type": "stream",
     "text": [
      "(284807, 31)\n"
     ]
    }
   ],
   "source": [
    "# Check shape\n",
    "print(df.shape)"
   ]
  },
  {
   "cell_type": "code",
   "execution_count": 9,
   "id": "fa363504-7186-480e-9127-b0d42f47d0ae",
   "metadata": {},
   "outputs": [
    {
     "name": "stdout",
     "output_type": "stream",
     "text": [
      "<class 'pandas.core.frame.DataFrame'>\n",
      "RangeIndex: 284807 entries, 0 to 284806\n",
      "Data columns (total 31 columns):\n",
      " #   Column  Non-Null Count   Dtype  \n",
      "---  ------  --------------   -----  \n",
      " 0   Time    284807 non-null  float64\n",
      " 1   V1      284807 non-null  float64\n",
      " 2   V2      284807 non-null  float64\n",
      " 3   V3      284807 non-null  float64\n",
      " 4   V4      284807 non-null  float64\n",
      " 5   V5      284807 non-null  float64\n",
      " 6   V6      284807 non-null  float64\n",
      " 7   V7      284807 non-null  float64\n",
      " 8   V8      284807 non-null  float64\n",
      " 9   V9      284807 non-null  float64\n",
      " 10  V10     284807 non-null  float64\n",
      " 11  V11     284807 non-null  float64\n",
      " 12  V12     284807 non-null  float64\n",
      " 13  V13     284807 non-null  float64\n",
      " 14  V14     284807 non-null  float64\n",
      " 15  V15     284807 non-null  float64\n",
      " 16  V16     284807 non-null  float64\n",
      " 17  V17     284807 non-null  float64\n",
      " 18  V18     284807 non-null  float64\n",
      " 19  V19     284807 non-null  float64\n",
      " 20  V20     284807 non-null  float64\n",
      " 21  V21     284807 non-null  float64\n",
      " 22  V22     284807 non-null  float64\n",
      " 23  V23     284807 non-null  float64\n",
      " 24  V24     284807 non-null  float64\n",
      " 25  V25     284807 non-null  float64\n",
      " 26  V26     284807 non-null  float64\n",
      " 27  V27     284807 non-null  float64\n",
      " 28  V28     284807 non-null  float64\n",
      " 29  Amount  284807 non-null  float64\n",
      " 30  Class   284807 non-null  int64  \n",
      "dtypes: float64(30), int64(1)\n",
      "memory usage: 67.4 MB\n",
      "None\n"
     ]
    }
   ],
   "source": [
    "# Check structure of dataset\n",
    "print(df.info())"
   ]
  },
  {
   "cell_type": "code",
   "execution_count": 10,
   "id": "57cc2d30-c07d-44e7-b5b4-2d805796c4eb",
   "metadata": {},
   "outputs": [
    {
     "data": {
      "text/plain": [
       "1081"
      ]
     },
     "execution_count": 10,
     "metadata": {},
     "output_type": "execute_result"
    }
   ],
   "source": [
    "# Check duplicates\n",
    "df.duplicated().sum()"
   ]
  },
  {
   "cell_type": "code",
   "execution_count": 11,
   "id": "36b9b1ee-a368-4ed6-8033-67dbbcbda775",
   "metadata": {},
   "outputs": [],
   "source": [
    "# Remove duplicates\n",
    "df = df.drop_duplicates()"
   ]
  },
  {
   "cell_type": "code",
   "execution_count": 12,
   "id": "d68fafca-2a98-4bd1-a090-e20b1e725d74",
   "metadata": {},
   "outputs": [
    {
     "data": {
      "text/plain": [
       "0"
      ]
     },
     "execution_count": 12,
     "metadata": {},
     "output_type": "execute_result"
    }
   ],
   "source": [
    "df.duplicated().sum()"
   ]
  },
  {
   "cell_type": "code",
   "execution_count": 13,
   "id": "e522875e-8f8c-4dc7-9fe5-6d8347edd67a",
   "metadata": {},
   "outputs": [
    {
     "name": "stdout",
     "output_type": "stream",
     "text": [
      "Time      0\n",
      "V1        0\n",
      "V2        0\n",
      "V3        0\n",
      "V4        0\n",
      "V5        0\n",
      "V6        0\n",
      "V7        0\n",
      "V8        0\n",
      "V9        0\n",
      "V10       0\n",
      "V11       0\n",
      "V12       0\n",
      "V13       0\n",
      "V14       0\n",
      "V15       0\n",
      "V16       0\n",
      "V17       0\n",
      "V18       0\n",
      "V19       0\n",
      "V20       0\n",
      "V21       0\n",
      "V22       0\n",
      "V23       0\n",
      "V24       0\n",
      "V25       0\n",
      "V26       0\n",
      "V27       0\n",
      "V28       0\n",
      "Amount    0\n",
      "Class     0\n",
      "dtype: int64\n"
     ]
    }
   ],
   "source": [
    "# Check missing values\n",
    "print(df.isnull().sum())"
   ]
  },
  {
   "cell_type": "code",
   "execution_count": 14,
   "id": "e3b15228-0f06-4bed-bd3f-9bab5b46d958",
   "metadata": {},
   "outputs": [],
   "source": [
    "# Normalize Amount\n",
    "scaler = StandardScaler()\n",
    "df['Amount'] = scaler.fit_transform(df[['Amount']])"
   ]
  },
  {
   "cell_type": "code",
   "execution_count": 15,
   "id": "377ec037-91c1-40c4-99ff-75a4d7f09f5e",
   "metadata": {},
   "outputs": [
    {
     "data": {
      "image/png": "[encoded data removed]",
      "text/plain": [
       "<Figure size 600x400 with 1 Axes>"
      ]
     },
     "metadata": {},
     "output_type": "display_data"
    }
   ],
   "source": [
    "plt.figure(figsize=(6,4))\n",
    "sns.countplot(x=\"Class\", data=df)\n",
    "plt.title(\"Class Distribution (Fraud vs Non-Fraud)\")\n",
    "plt.show()\n"
   ]
  },
  {
   "cell_type": "markdown",
   "id": "e058f82e-3954-4ded-ab57-7b8ba241c93d",
   "metadata": {},
   "source": [
    "## Insights:\n",
    "### The dataset exhibits a severe class imbalance. The number of normal transactions (Class 0) is overwhelmingly larger than the number of fraudulent transactions (Class 1). This is a common characteristic of fraud detection datasets."
   ]
  },
  {
   "cell_type": "code",
   "execution_count": 17,
   "id": "4dc04cbf-7f5d-46b6-8d93-6c9869e6fd0f",
   "metadata": {},
   "outputs": [
    {
     "data": {
      "image/png": "[encoded data removed]",
      "text/plain": [
       "<Figure size 800x500 with 1 Axes>"
      ]
     },
     "metadata": {},
     "output_type": "display_data"
    }
   ],
   "source": [
    "# Transaction Amount Distribution\n",
    "plt.figure(figsize=(8,5))\n",
    "sns.histplot(df[\"Amount\"], bins=100, kde=True)\n",
    "plt.title(\"Distribution of Transaction Amounts\")\n",
    "plt.xlabel(\"Amount\")\n",
    "plt.show()"
   ]
  },
  {
   "cell_type": "markdown",
   "id": "7f6d696e-490f-4604-8ade-96dc18bffa48",
   "metadata": {},
   "source": [
    "## Insights:\n",
    "### ● The distribution of transaction amounts is highly skewed to the right (positively skewed).\n",
    "### ● The majority of transactions occur at very small amounts (close to 0–10 units).\n",
    "### ● Only a small fraction of transactions involve large amounts, making them rare outliers.\n",
    "### ● This skewness indicates that feature scaling may be required before modeling.\n",
    "### ● Since most transactions are small, fraud analysis should also consider whether fraudulent transactions cluster in lower amounts compared to non-fraud."
   ]
  },
  {
   "cell_type": "code",
   "execution_count": 19,
   "id": "95031ab6-79bb-4600-a346-82a01056522b",
   "metadata": {},
   "outputs": [
    {
     "data": {
      "image/png": "[encoded data removed]",
      "text/plain": [
       "<Figure size 800x500 with 1 Axes>"
      ]
     },
     "metadata": {},
     "output_type": "display_data"
    }
   ],
   "source": [
    "plt.figure(figsize=(8,5))\n",
    "sns.boxplot(x=\"Class\", y=\"Amount\", data=df)\n",
    "plt.title(\"Transaction Amount by Class\")\n",
    "plt.show()\n"
   ]
  },
  {
   "cell_type": "markdown",
   "id": "5d05428f-09fb-4206-9d9d-e9a958d52252",
   "metadata": {},
   "source": [
    "## Insights:\n",
    "### ● Normal Transactions (Class 0): The majority of normal transactions have very low values, but there are a significant number of high-value outliers.\n",
    "\n",
    "### ● Fraudulent Transactions (Class 1): The fraudulent transactions are concentrated at much lower values, with none reaching the high amounts seen in normal transactions.\n",
    "\n",
    "### ● This insight suggests that transaction amount can be a strong predictor of fraud."
   ]
  },
  {
   "cell_type": "code",
   "execution_count": 21,
   "id": "3a40d382-ebf7-4287-a246-600cbac94cc0",
   "metadata": {},
   "outputs": [
    {
     "data": {
      "image/png": "[encoded data removed]",
      "text/plain": [
       "<Figure size 1000x500 with 1 Axes>"
      ]
     },
     "metadata": {},
     "output_type": "display_data"
    }
   ],
   "source": [
    "# Extract additional features\n",
    "df['Hour'] = df['Time'] / 3600.0\n",
    "\n",
    "# Plot transactions by hour\n",
    "plt.figure(figsize=(10,5))\n",
    "sns.histplot(df[\"Hour\"], bins=24, kde=False)\n",
    "plt.title(\"Transactions by Time of Day (All)\")\n",
    "plt.xlabel(\"Hour of Day\")\n",
    "plt.ylabel(\"Number of Transactions\")\n",
    "plt.show()"
   ]
  },
  {
   "cell_type": "markdown",
   "id": "87fe73ec-e41b-4e52-9163-cbae381b2520",
   "metadata": {},
   "source": [
    "## Insights:\n",
    "\n",
    "### ● This chart shows the distribution of all transactions throughout the day.\n",
    "\n",
    "### ● There is a clear pattern where the number of transactions is lowest during the early morning hours, specifically from 2 AM to 6 AM.\n",
    "\n",
    "### ● Transaction activity significantly increases during business hours, from around 8 AM to 9 PM.\n",
    "\n",
    "### ● The chart shows peaks in activity around midday and late evening.\n",
    "\n",
    "### ● This provides a baseline of normal user behavior, which is useful for comparing against fraudulent activity."
   ]
  },
  {
   "cell_type": "code",
   "execution_count": 23,
   "id": "fdc023ef-d8fe-4be8-a908-7e6cffe93862",
   "metadata": {},
   "outputs": [
    {
     "data": {
      "image/png": "[encoded data removed]",
      "text/plain": [
       "<Figure size 1000x500 with 1 Axes>"
      ]
     },
     "metadata": {},
     "output_type": "display_data"
    }
   ],
   "source": [
    "# Compare fraud vs normal over time\n",
    "plt.figure(figsize=(10,5))\n",
    "sns.histplot(data=df, x=\"Hour\", hue=\"Class\", bins=24, element=\"step\", stat=\"count\")\n",
    "plt.title(\"Fraud vs Normal Transactions by Time of Day\")\n",
    "plt.xlabel(\"Hour of Day\")\n",
    "plt.ylabel(\"Transaction Count\")\n",
    "plt.show()"
   ]
  },
  {
   "cell_type": "markdown",
   "id": "98497fe7-d139-497d-a233-6a04b839971d",
   "metadata": {},
   "source": [
    "## Insights:\n",
    "### ● This chart compares the distribution of normal and fraudulent transactions over a 24-hour period.\n",
    "### ● The chart reveals a severe class imbalance at all hours of the day. The number of fraudulent transactions (Class 1) is consistently and drastically lower than the number of normal transactions (Class 0)."
   ]
  },
  {
   "cell_type": "code",
   "execution_count": 25,
   "id": "b9194854-d0da-44f9-93eb-76c526b067fc",
   "metadata": {},
   "outputs": [
    {
     "data": {
      "image/png": "[encoded data removed]",
      "text/plain": [
       "<Figure size 1200x800 with 2 Axes>"
      ]
     },
     "metadata": {},
     "output_type": "display_data"
    }
   ],
   "source": [
    "# Check the Correlation\n",
    "plt.figure(figsize=(12,8))\n",
    "sns.heatmap(df.corr(), cmap=\"coolwarm\", center=0)\n",
    "plt.title(\"Feature Correlation Heatmap\")\n",
    "plt.show()\n"
   ]
  },
  {
   "cell_type": "code",
   "execution_count": 26,
   "id": "d4ea92bf-0a5d-4952-9d17-3c791178c5e1",
   "metadata": {},
   "outputs": [
    {
     "name": "stdout",
     "output_type": "stream",
     "text": [
      "Class\n",
      "0    283253\n",
      "1       473\n",
      "Name: count, dtype: int64\n"
     ]
    }
   ],
   "source": [
    "# Check target distribution\n",
    "print(df[\"Class\"].value_counts())"
   ]
  },
  {
   "cell_type": "code",
   "execution_count": 27,
   "id": "ea27f12b-b0bd-48cc-966d-5dddc6d7e4ad",
   "metadata": {},
   "outputs": [],
   "source": [
    "# Define Features & Target\n",
    "X = df.drop([\"Class\",\"Time\"], axis=1)\n",
    "y = df[\"Class\"]"
   ]
  },
  {
   "cell_type": "code",
   "execution_count": 28,
   "id": "36b6c621-c327-4e1f-9ee5-cfa93cf492a5",
   "metadata": {},
   "outputs": [],
   "source": [
    "# Split dataset\n",
    "X_train, X_test, y_train, y_test = train_test_split(\n",
    "    X, y, test_size=0.2, random_state=42, stratify=y\n",
    ")"
   ]
  },
  {
   "cell_type": "markdown",
   "id": "06940102-fbcb-48a3-a37a-e094d056a941",
   "metadata": {},
   "source": [
    "# ANOMALY DETECTION MODEL  "
   ]
  },
  {
   "cell_type": "code",
   "execution_count": 30,
   "id": "699a5430-df23-4424-a766-b3e38f6a61e1",
   "metadata": {},
   "outputs": [
    {
     "name": "stdout",
     "output_type": "stream",
     "text": [
      "Training data shape: (198608, 31), Validation shape: (28372, 31), Test shape: (56746, 31)\n"
     ]
    }
   ],
   "source": [
    "\n",
    "# Libraries \n",
    "import pandas as pd\n",
    "import numpy as np\n",
    "import matplotlib.pyplot as plt\n",
    "from sklearn.preprocessing import StandardScaler\n",
    "from sklearn.ensemble import IsolationForest\n",
    "from sklearn.decomposition import PCA\n",
    "from sklearn.cluster import DBSCAN\n",
    "from sklearn.model_selection import train_test_split\n",
    "\n",
    "\n",
    "# Split Data\n",
    "X = df.drop(columns=['Class'])\n",
    "y = df['Class']\n",
    "\n",
    "# Train, Validation, Test \n",
    "X_train, X_temp, y_train, y_temp = train_test_split(X, y, test_size=0.3, random_state=42, stratify=y)\n",
    "X_val, X_test, y_val, y_test = train_test_split(X_temp, y_temp, test_size=2/3, random_state=42, stratify=y_temp)\n",
    "\n",
    "print(f\"Training data shape: {X_train.shape}, Validation shape: {X_val.shape}, Test shape: {X_test.shape}\")\n",
    "\n"
   ]
  },
  {
   "cell_type": "code",
   "execution_count": 31,
   "id": "ebca6d2e-3c32-4a27-9ae3-25a2f6ea7118",
   "metadata": {},
   "outputs": [],
   "source": [
    "# Scaling\n",
    "scaler = StandardScaler()\n",
    "X_train_scaled = scaler.fit_transform(X_train)\n",
    "X_val_scaled = scaler.transform(X_val)\n",
    "X_test_scaled = scaler.transform(X_test)\n"
   ]
  },
  {
   "cell_type": "code",
   "execution_count": 32,
   "id": "c3e55fc0-978b-421c-80b0-f3422abd20c7",
   "metadata": {},
   "outputs": [
    {
     "name": "stdout",
     "output_type": "stream",
     "text": [
      "Best threshold found on validation set: -0.15515785256354417\n"
     ]
    }
   ],
   "source": [
    "# Isolation Forest,Threshold Tuning\n",
    "iso_forest = IsolationForest(n_estimators=100, contamination='auto', random_state=42)\n",
    "iso_forest.fit(X_train_scaled)\n",
    "\n",
    "val_scores = iso_forest.decision_function(X_val_scaled)\n",
    "thresholds = np.linspace(val_scores.min(), val_scores.max(), 50)\n",
    "\n",
    "# Best threshold \n",
    "best_f1, best_threshold = 0, None\n",
    "from sklearn.metrics import f1_score\n",
    "for t in thresholds:\n",
    "    preds = (val_scores < t).astype(int)\n",
    "    f1 = f1_score(y_val, preds)\n",
    "    if f1 > best_f1:\n",
    "        best_f1, best_threshold = f1, t\n",
    "\n",
    "print(f\"Best threshold found on validation set: {best_threshold}\")\n",
    "\n",
    "# Predict anomalies on test data \n",
    "test_scores = iso_forest.decision_function(X_test_scaled)\n",
    "iso_pred_test = (test_scores < best_threshold).astype(int)\n"
   ]
  },
  {
   "cell_type": "code",
   "execution_count": 33,
   "id": "0635052d-711e-42f1-8afb-dafde68e64d1",
   "metadata": {},
   "outputs": [],
   "source": [
    "# PCA, DBSCAN (optimized)\n",
    "pca = PCA(n_components=2, random_state=42)\n",
    "X_train_pca = pca.fit_transform(X_train_scaled)\n",
    "X_test_pca = pca.transform(X_test_scaled)\n",
    "\n",
    "dbscan = DBSCAN(eps=0.5, min_samples=10, n_jobs=-1)\n",
    "db_labels = dbscan.fit_predict(X_test_pca)\n",
    "db_pred_test = (db_labels == -1).astype(int)"
   ]
  },
  {
   "cell_type": "code",
   "execution_count": 34,
   "id": "7a2f61a3-d866-42c9-add6-91d8216a0689",
   "metadata": {},
   "outputs": [
    {
     "data": {
      "image/png": "[encoded data removed]",
      "text/plain": [
       "<Figure size 800x600 with 1 Axes>"
      ]
     },
     "metadata": {},
     "output_type": "display_data"
    }
   ],
   "source": [
    "# Combine Results\n",
    "combined_pred_test = np.where((iso_pred_test + db_pred_test) > 0, 1, 0)\n",
    "\n",
    "# PCA Visualization \n",
    "plt.figure(figsize=(8,6))\n",
    "plt.scatter(X_test_pca[:,0], X_test_pca[:,1], c='blue', alpha=0.5, label='Normal')\n",
    "plt.scatter(X_test_pca[combined_pred_test==1,0], X_test_pca[combined_pred_test==1,1], c='red', label='Anomaly (Combined)')\n",
    "plt.xlabel('PCA Component 1')\n",
    "plt.ylabel('PCA Component 2')\n",
    "plt.title('PCA Visualization of Anomalies (Test Data)')\n",
    "plt.legend()\n",
    "plt.show()\n"
   ]
  },
  {
   "cell_type": "code",
   "execution_count": 35,
   "id": "3047933d-d303-40a6-830e-1a2a4921af6e",
   "metadata": {},
   "outputs": [
    {
     "name": "stdout",
     "output_type": "stream",
     "text": [
      "Model building done.\n",
      "            Time        V1        V2        V3        V4        V5        V6  \\\n",
      "24300    33164.0 -1.638330 -1.997785  1.236241 -2.483885  0.182321 -1.645626   \n",
      "218179  141201.0  2.046909 -0.370331 -2.545063 -0.727749  2.386502  3.318727   \n",
      "223103  143247.0 -0.703007  0.537546 -0.330289 -0.617870  0.745441 -0.807536   \n",
      "223923  143576.0 -0.669364  1.591086 -1.097919 -0.823425  0.809713 -0.305371   \n",
      "159611  112719.0 -0.879629 -0.097449 -0.125350  1.019161  1.687481 -0.340194   \n",
      "\n",
      "              V7        V8        V9  ...       V25       V26       V27  \\\n",
      "24300  -0.729813 -0.114861  0.399473  ... -0.817397 -0.255343  0.393821   \n",
      "218179 -0.476511  0.791045  0.403141  ... -0.265525  0.219064 -0.052505   \n",
      "223103  1.331169 -0.170652 -0.245595  ... -0.031291 -0.179348  0.065993   \n",
      "223923  0.492665  0.513121 -0.126326  ... -0.274574  0.133647  0.314293   \n",
      "159611  1.458735 -0.258396 -0.807210  ...  0.089018 -0.462011  0.186009   \n",
      "\n",
      "             V28    Amount       Hour  True_Label  Anomaly_IF  Anomaly_DBSCAN  \\\n",
      "24300   0.067546  0.161771   9.212222           0           0               0   \n",
      "218179 -0.066595 -0.341865  39.222500           0           0               0   \n",
      "223103  0.177519  0.097953  39.790833           0           0               0   \n",
      "223923  0.125414 -0.343023  39.882222           0           0               0   \n",
      "159611  0.045028  0.301628  31.310833           0           0               0   \n",
      "\n",
      "        Anomaly_Combined  \n",
      "24300                  0  \n",
      "218179                 0  \n",
      "223103                 0  \n",
      "223923                 0  \n",
      "159611                 0  \n",
      "\n",
      "[5 rows x 35 columns]\n"
     ]
    }
   ],
   "source": [
    "# Store Results \n",
    "test_results = X_test.copy()\n",
    "test_results['True_Label'] = y_test\n",
    "test_results['Anomaly_IF'] = iso_pred_test\n",
    "test_results['Anomaly_DBSCAN'] = db_pred_test\n",
    "test_results['Anomaly_Combined'] = combined_pred_test\n",
    "\n",
    "print(\"Model building done.\")\n",
    "print(test_results.head())\n"
   ]
  },
  {
   "cell_type": "markdown",
   "id": "33c966d1-cf95-4bdf-828f-b44536368da8",
   "metadata": {},
   "source": [
    "# Model Evaluation"
   ]
  },
  {
   "cell_type": "code",
   "execution_count": 37,
   "id": "6c3250ad-7681-4008-94a3-bc5a67391501",
   "metadata": {
    "scrolled": true
   },
   "outputs": [
    {
     "name": "stdout",
     "output_type": "stream",
     "text": [
      "Confusion Matrix:\n",
      "[[56378   273]\n",
      " [   62    33]]\n",
      "\n",
      "Classification Report:\n",
      "              precision    recall  f1-score   support\n",
      "\n",
      "           0     0.9989    0.9952    0.9970     56651\n",
      "           1     0.1078    0.3474    0.1646        95\n",
      "\n",
      "    accuracy                         0.9941     56746\n",
      "   macro avg     0.5534    0.6713    0.5808     56746\n",
      "weighted avg     0.9974    0.9941    0.9956     56746\n",
      "\n"
     ]
    }
   ],
   "source": [
    "#Libraries\n",
    "from sklearn.metrics import confusion_matrix, classification_report, roc_auc_score, precision_recall_curve, roc_curve\n",
    "\n",
    "y_true = test_results['True_Label'].values\n",
    "y_pred = test_results['Anomaly_Combined'].values\n",
    "\n",
    "# Confusion matrix & classification report\n",
    "print(\"Confusion Matrix:\")\n",
    "print(confusion_matrix(y_true, y_pred))\n",
    "print(\"\\nClassification Report:\")\n",
    "print(classification_report(y_true, y_pred, digits=4))"
   ]
  },
  {
   "cell_type": "markdown",
   "id": "bd2077e1-21fd-4091-b833-6403edc11eaa",
   "metadata": {},
   "source": [
    "##### Precision (for fraud): 10.8% → Out of all transactions the model marked as fraud, only about 1 in 10 was actually fraud. Low accuracy for fraud predictions.\n",
    "\n",
    "##### Recall (for fraud): 34.7% → The model detected about 1 out of 3 actual fraud transactions. \n",
    "\n",
    "##### F1-score: 16.5% → Overall, the model’s ability to detect fraud is weak. \n",
    "\n",
    "##### Overall accuracy: 99.41% → Looks very high, but this is misleading because the dataset has very few fraud cases compared to normal transactions."
   ]
  },
  {
   "cell_type": "code",
   "execution_count": 42,
   "id": "508df472-e231-40dd-879c-0f03e3066fa2",
   "metadata": {},
   "outputs": [],
   "source": [
    "#Hyperparameter tuning\n",
    "y_pred = (iso_forest.predict(X) == -1).astype(int)\n",
    "\n",
    "# Get anomaly scores (lower = more anomalous)\n",
    "scores = iso_forest.decision_function(X_test_scaled)  \n",
    "\n",
    "# True labels\n",
    "y_true = test_results['True_Label'].values  "
   ]
  },
  {
   "cell_type": "code",
   "execution_count": 44,
   "id": "91488586-110b-46f5-96ed-34d6d783a12c",
   "metadata": {},
   "outputs": [
    {
     "name": "stdout",
     "output_type": "stream",
     "text": [
      "Best Threshold: 0.15833853637298267\n",
      "Best F1: 0.3422459892548257\n"
     ]
    }
   ],
   "source": [
    "from sklearn.metrics import precision_recall_curve, roc_curve, auc\n",
    "\n",
    "# Precision-recall curve\n",
    "precision, recall, thresholds = precision_recall_curve(y_true, -scores)  \n",
    "# (use -scores because anomalies have lower values)\n",
    "\n",
    "# Pick threshold (maximize F1 or recall)\n",
    "f1_scores = 2 * (precision * recall) / (precision + recall + 1e-10)\n",
    "best_idx = f1_scores.argmax()\n",
    "best_threshold = thresholds[best_idx]\n",
    "\n",
    "print(\"Best Threshold:\", best_threshold)\n",
    "print(\"Best F1:\", f1_scores[best_idx])\n"
   ]
  },
  {
   "cell_type": "code",
   "execution_count": 46,
   "id": "b7c0877b-79e8-43a7-95f8-02069d62a0a0",
   "metadata": {},
   "outputs": [
    {
     "name": "stdout",
     "output_type": "stream",
     "text": [
      "Confusion Matrix:\n",
      "[[56591    60]\n",
      " [   63    32]]\n",
      "\n",
      "Classification Report:\n",
      "              precision    recall  f1-score   support\n",
      "\n",
      "           0     0.9989    0.9989    0.9989     56651\n",
      "           1     0.3478    0.3368    0.3422        95\n",
      "\n",
      "    accuracy                         0.9978     56746\n",
      "   macro avg     0.6734    0.6679    0.6706     56746\n",
      "weighted avg     0.9978    0.9978    0.9978     56746\n",
      "\n"
     ]
    }
   ],
   "source": [
    "# Use tuned threshold\n",
    "y_pred = (-scores >= best_threshold).astype(int)\n",
    "\n",
    "# Evaluate\n",
    "from sklearn.metrics import classification_report, confusion_matrix\n",
    "\n",
    "print(\"Confusion Matrix:\")\n",
    "print(confusion_matrix(y_true, y_pred))\n",
    "print(\"\\nClassification Report:\")\n",
    "print(classification_report(y_true, y_pred, digits=4))\n"
   ]
  },
  {
   "cell_type": "markdown",
   "id": "2ac42ec3-1b6f-4922-ae35-d41ee9f95174",
   "metadata": {},
   "source": [
    "##### Precision for fraud: 34.8% → About 1 in 3 transactions the model flagged as fraud is actually fraud.\n",
    "\n",
    "##### Recall for fraud: 33.7% → The model catches about 1 out of 3 real fraud transactions.\n",
    "\n",
    "##### F1-score: 34.2% → Shows a balanced improvement in detecting frauds.\n",
    "\n",
    "##### Overall accuracy: 99.78% → Looks very high, Still this is misleading because the dataset has very few fraud cases compared to normal transactions."
   ]
  },
  {
   "cell_type": "code",
   "execution_count": 66,
   "id": "cc8f9114-82f6-48f6-9174-56da0113a917",
   "metadata": {},
   "outputs": [
    {
     "data": {
      "text/html": [
       "<div>\n",
       "<style scoped>\n",
       "    .dataframe tbody tr th:only-of-type {\n",
       "        vertical-align: middle;\n",
       "    }\n",
       "\n",
       "    .dataframe tbody tr th {\n",
       "        vertical-align: top;\n",
       "    }\n",
       "\n",
       "    .dataframe thead th {\n",
       "        text-align: right;\n",
       "    }\n",
       "</style>\n",
       "<table border=\"1\" class=\"dataframe\">\n",
       "  <thead>\n",
       "    <tr style=\"text-align: right;\">\n",
       "      <th></th>\n",
       "      <th>Threshold</th>\n",
       "      <th>TP</th>\n",
       "      <th>FN</th>\n",
       "      <th>Precision_fraud</th>\n",
       "      <th>Recall_fraud</th>\n",
       "    </tr>\n",
       "  </thead>\n",
       "  <tbody>\n",
       "    <tr>\n",
       "      <th>19</th>\n",
       "      <td>-0.036708</td>\n",
       "      <td>70</td>\n",
       "      <td>25</td>\n",
       "      <td>0.061674</td>\n",
       "      <td>0.736842</td>\n",
       "    </tr>\n",
       "    <tr>\n",
       "      <th>18</th>\n",
       "      <td>-0.039868</td>\n",
       "      <td>68</td>\n",
       "      <td>27</td>\n",
       "      <td>0.063021</td>\n",
       "      <td>0.715789</td>\n",
       "    </tr>\n",
       "    <tr>\n",
       "      <th>17</th>\n",
       "      <td>-0.043107</td>\n",
       "      <td>68</td>\n",
       "      <td>27</td>\n",
       "      <td>0.066536</td>\n",
       "      <td>0.715789</td>\n",
       "    </tr>\n",
       "    <tr>\n",
       "      <th>16</th>\n",
       "      <td>-0.046949</td>\n",
       "      <td>68</td>\n",
       "      <td>27</td>\n",
       "      <td>0.070466</td>\n",
       "      <td>0.715789</td>\n",
       "    </tr>\n",
       "    <tr>\n",
       "      <th>15</th>\n",
       "      <td>-0.050650</td>\n",
       "      <td>68</td>\n",
       "      <td>27</td>\n",
       "      <td>0.074890</td>\n",
       "      <td>0.715789</td>\n",
       "    </tr>\n",
       "    <tr>\n",
       "      <th>14</th>\n",
       "      <td>-0.054817</td>\n",
       "      <td>68</td>\n",
       "      <td>27</td>\n",
       "      <td>0.079812</td>\n",
       "      <td>0.715789</td>\n",
       "    </tr>\n",
       "    <tr>\n",
       "      <th>13</th>\n",
       "      <td>-0.058728</td>\n",
       "      <td>68</td>\n",
       "      <td>27</td>\n",
       "      <td>0.085535</td>\n",
       "      <td>0.715789</td>\n",
       "    </tr>\n",
       "    <tr>\n",
       "      <th>12</th>\n",
       "      <td>-0.062763</td>\n",
       "      <td>67</td>\n",
       "      <td>28</td>\n",
       "      <td>0.090786</td>\n",
       "      <td>0.705263</td>\n",
       "    </tr>\n",
       "    <tr>\n",
       "      <th>11</th>\n",
       "      <td>-0.066207</td>\n",
       "      <td>63</td>\n",
       "      <td>32</td>\n",
       "      <td>0.092511</td>\n",
       "      <td>0.663158</td>\n",
       "    </tr>\n",
       "    <tr>\n",
       "      <th>10</th>\n",
       "      <td>-0.070914</td>\n",
       "      <td>60</td>\n",
       "      <td>35</td>\n",
       "      <td>0.096000</td>\n",
       "      <td>0.631579</td>\n",
       "    </tr>\n",
       "    <tr>\n",
       "      <th>9</th>\n",
       "      <td>-0.076141</td>\n",
       "      <td>59</td>\n",
       "      <td>36</td>\n",
       "      <td>0.103873</td>\n",
       "      <td>0.621053</td>\n",
       "    </tr>\n",
       "    <tr>\n",
       "      <th>8</th>\n",
       "      <td>-0.081790</td>\n",
       "      <td>56</td>\n",
       "      <td>39</td>\n",
       "      <td>0.109589</td>\n",
       "      <td>0.589474</td>\n",
       "    </tr>\n",
       "    <tr>\n",
       "      <th>7</th>\n",
       "      <td>-0.086375</td>\n",
       "      <td>53</td>\n",
       "      <td>42</td>\n",
       "      <td>0.116740</td>\n",
       "      <td>0.557895</td>\n",
       "    </tr>\n",
       "    <tr>\n",
       "      <th>6</th>\n",
       "      <td>-0.092539</td>\n",
       "      <td>53</td>\n",
       "      <td>42</td>\n",
       "      <td>0.133166</td>\n",
       "      <td>0.557895</td>\n",
       "    </tr>\n",
       "    <tr>\n",
       "      <th>5</th>\n",
       "      <td>-0.098923</td>\n",
       "      <td>48</td>\n",
       "      <td>47</td>\n",
       "      <td>0.140762</td>\n",
       "      <td>0.505263</td>\n",
       "    </tr>\n",
       "    <tr>\n",
       "      <th>4</th>\n",
       "      <td>-0.106744</td>\n",
       "      <td>44</td>\n",
       "      <td>51</td>\n",
       "      <td>0.154930</td>\n",
       "      <td>0.463158</td>\n",
       "    </tr>\n",
       "    <tr>\n",
       "      <th>3</th>\n",
       "      <td>-0.118267</td>\n",
       "      <td>41</td>\n",
       "      <td>54</td>\n",
       "      <td>0.180617</td>\n",
       "      <td>0.431579</td>\n",
       "    </tr>\n",
       "    <tr>\n",
       "      <th>2</th>\n",
       "      <td>-0.130309</td>\n",
       "      <td>37</td>\n",
       "      <td>58</td>\n",
       "      <td>0.216374</td>\n",
       "      <td>0.389474</td>\n",
       "    </tr>\n",
       "    <tr>\n",
       "      <th>1</th>\n",
       "      <td>-0.150317</td>\n",
       "      <td>33</td>\n",
       "      <td>62</td>\n",
       "      <td>0.289474</td>\n",
       "      <td>0.347368</td>\n",
       "    </tr>\n",
       "    <tr>\n",
       "      <th>0</th>\n",
       "      <td>-0.176420</td>\n",
       "      <td>22</td>\n",
       "      <td>73</td>\n",
       "      <td>0.385965</td>\n",
       "      <td>0.231579</td>\n",
       "    </tr>\n",
       "  </tbody>\n",
       "</table>\n",
       "</div>"
      ],
      "text/plain": [
       "    Threshold  TP  FN  Precision_fraud  Recall_fraud\n",
       "19  -0.036708  70  25         0.061674      0.736842\n",
       "18  -0.039868  68  27         0.063021      0.715789\n",
       "17  -0.043107  68  27         0.066536      0.715789\n",
       "16  -0.046949  68  27         0.070466      0.715789\n",
       "15  -0.050650  68  27         0.074890      0.715789\n",
       "14  -0.054817  68  27         0.079812      0.715789\n",
       "13  -0.058728  68  27         0.085535      0.715789\n",
       "12  -0.062763  67  28         0.090786      0.705263\n",
       "11  -0.066207  63  32         0.092511      0.663158\n",
       "10  -0.070914  60  35         0.096000      0.631579\n",
       "9   -0.076141  59  36         0.103873      0.621053\n",
       "8   -0.081790  56  39         0.109589      0.589474\n",
       "7   -0.086375  53  42         0.116740      0.557895\n",
       "6   -0.092539  53  42         0.133166      0.557895\n",
       "5   -0.098923  48  47         0.140762      0.505263\n",
       "4   -0.106744  44  51         0.154930      0.463158\n",
       "3   -0.118267  41  54         0.180617      0.431579\n",
       "2   -0.130309  37  58         0.216374      0.389474\n",
       "1   -0.150317  33  62         0.289474      0.347368\n",
       "0   -0.176420  22  73         0.385965      0.231579"
      ]
     },
     "execution_count": 66,
     "metadata": {},
     "output_type": "execute_result"
    }
   ],
   "source": [
    "import numpy as np\n",
    "\n",
    "# Get raw anomaly scores\n",
    "scores = iso_forest.decision_function(X_test_scaled)  # higher = normal, lower = anomaly\n",
    "\n",
    "# Try multiple thresholds\n",
    "thresholds = np.percentile(scores, np.arange(0.1, 2.1, 0.1))  # from 0.1% to 2% lowest as fraud\n",
    "\n",
    "results = []\n",
    "\n",
    "for thresh in thresholds:\n",
    "    y_pred = (scores < thresh).astype(int)  # classify as fraud if score < threshold\n",
    "    cm = confusion_matrix(y_test, y_pred)\n",
    "    report = classification_report(y_test, y_pred, output_dict=True)\n",
    "    fraud_recall = report['1']['recall']  # recall for class 1 (fraud)\n",
    "    fraud_precision = report['1']['precision']\n",
    "    results.append([thresh, cm[1,1], cm[1,0], fraud_precision, fraud_recall])\n",
    "\n",
    "# Display results\n",
    "import pandas as pd\n",
    "df_results = pd.DataFrame(results, columns=['Threshold', 'TP', 'FN', 'Precision_fraud', 'Recall_fraud'])\n",
    "df_results.sort_values(by='Recall_fraud', ascending=False)\n"
   ]
  },
  {
   "cell_type": "markdown",
   "id": "906499f3-77fe-4a11-89c4-11980a3d7730",
   "metadata": {},
   "source": [
    "# Set threshold = -0.037 for predictions:"
   ]
  },
  {
   "cell_type": "code",
   "execution_count": 72,
   "id": "fb8c4e1d-f73b-4599-a408-d62c181819a4",
   "metadata": {},
   "outputs": [
    {
     "name": "stdout",
     "output_type": "stream",
     "text": [
      "[[55586  1065]\n",
      " [   25    70]]\n",
      "              precision    recall  f1-score   support\n",
      "\n",
      "           0       1.00      0.98      0.99     56651\n",
      "           1       0.06      0.74      0.11        95\n",
      "\n",
      "    accuracy                           0.98     56746\n",
      "   macro avg       0.53      0.86      0.55     56746\n",
      "weighted avg       1.00      0.98      0.99     56746\n",
      "\n"
     ]
    }
   ],
   "source": [
    "y_pred_final = (scores < -0.0367).astype(int)\n",
    "\n",
    "cm_final = confusion_matrix(y_test, y_pred_final)\n",
    "report_final = classification_report(y_test, y_pred_final)\n",
    "print(cm_final)\n",
    "print(report_final)"
   ]
  },
  {
   "cell_type": "markdown",
   "id": "3db40892-35b1-4143-8b7e-12d1d3bedb4b",
   "metadata": {},
   "source": [
    "# SQL QUERY"
   ]
  },
  {
   "cell_type": "code",
   "execution_count": 1,
   "id": "1ee1b3a1-dbba-40de-9d17-c2fc2c4a012e",
   "metadata": {},
   "outputs": [],
   "source": [
    "import sqlite3\n",
    "import pandas as pd "
   ]
  },
  {
   "cell_type": "code",
   "execution_count": 2,
   "id": "27540424-765d-46fd-96ca-1848b1eeefc6",
   "metadata": {},
   "outputs": [],
   "source": [
    "%load_ext sql\n",
    "%sql sqlite:///mydb.db"
   ]
  },
  {
   "cell_type": "code",
   "execution_count": 3,
   "id": "289f321e-b85d-4c9c-8406-f7aaf4569bf9",
   "metadata": {},
   "outputs": [],
   "source": [
    "df=pd.read_csv('creditcard.csv')"
   ]
  },
  {
   "cell_type": "code",
   "execution_count": 4,
   "id": "e699e483-6849-4de5-998e-13c4dc2f0108",
   "metadata": {},
   "outputs": [
    {
     "data": {
      "text/plain": [
       "284807"
      ]
     },
     "execution_count": 4,
     "metadata": {},
     "output_type": "execute_result"
    }
   ],
   "source": [
    "#database\n",
    "conn = sqlite3.connect(\"mydb.db\")\n",
    "#connect csv to database\n",
    "df.to_sql(\"credit_data\", conn, index=False, if_exists=\"replace\")"
   ]
  },
  {
   "cell_type": "code",
   "execution_count": 5,
   "id": "971d7a21-7a22-4c1e-bdbb-5bf50cf6c765",
   "metadata": {},
   "outputs": [
    {
     "name": "stdout",
     "output_type": "stream",
     "text": [
      "   Time        V1        V2        V3        V4        V5        V6        V7  \\\n",
      "0   0.0 -1.359807 -0.072781  2.536347  1.378155 -0.338321  0.462388  0.239599   \n",
      "1   0.0  1.191857  0.266151  0.166480  0.448154  0.060018 -0.082361 -0.078803   \n",
      "2   1.0 -1.358354 -1.340163  1.773209  0.379780 -0.503198  1.800499  0.791461   \n",
      "3   1.0 -0.966272 -0.185226  1.792993 -0.863291 -0.010309  1.247203  0.237609   \n",
      "4   2.0 -1.158233  0.877737  1.548718  0.403034 -0.407193  0.095921  0.592941   \n",
      "\n",
      "         V8        V9  ...       V21       V22       V23       V24       V25  \\\n",
      "0  0.098698  0.363787  ... -0.018307  0.277838 -0.110474  0.066928  0.128539   \n",
      "1  0.085102 -0.255425  ... -0.225775 -0.638672  0.101288 -0.339846  0.167170   \n",
      "2  0.247676 -1.514654  ...  0.247998  0.771679  0.909412 -0.689281 -0.327642   \n",
      "3  0.377436 -1.387024  ... -0.108300  0.005274 -0.190321 -1.175575  0.647376   \n",
      "4 -0.270533  0.817739  ... -0.009431  0.798278 -0.137458  0.141267 -0.206010   \n",
      "\n",
      "        V26       V27       V28  Amount  Class  \n",
      "0 -0.189115  0.133558 -0.021053  149.62      0  \n",
      "1  0.125895 -0.008983  0.014724    2.69      0  \n",
      "2 -0.139097 -0.055353 -0.059752  378.66      0  \n",
      "3 -0.221929  0.062723  0.061458  123.50      0  \n",
      "4  0.502292  0.219422  0.215153   69.99      0  \n",
      "\n",
      "[5 rows x 31 columns]\n"
     ]
    }
   ],
   "source": [
    "q1=\"\"\"\n",
    "SELECT * FROM\n",
    "credit_data\n",
    "LIMIT 5\n",
    "\"\"\"\n",
    "rows_1=pd.read_sql(q1,conn)\n",
    "print(rows_1)"
   ]
  },
  {
   "cell_type": "code",
   "execution_count": 22,
   "id": "6a33e033-b7e9-4481-a160-518f6ceae25f",
   "metadata": {},
   "outputs": [
    {
     "name": "stdout",
     "output_type": "stream",
     "text": [
      "   Total_Transaction\n",
      "0             284807\n"
     ]
    }
   ],
   "source": [
    "#Count Total  Number of Transaction\n",
    "q1=\"\"\"\n",
    "SELECT Count(*)\n",
    "AS Total_Transaction\n",
    "FROM\n",
    "credit_data \n",
    "\"\"\"\n",
    "rows_1=pd.read_sql(q1,conn)\n",
    "print(rows_1)"
   ]
  },
  {
   "cell_type": "code",
   "execution_count": 24,
   "id": "71481d55-3f12-4e35-b133-518449fa8adf",
   "metadata": {},
   "outputs": [
    {
     "name": "stdout",
     "output_type": "stream",
     "text": [
      "    Count\n",
      "0  284315\n",
      "1     492\n"
     ]
    }
   ],
   "source": [
    "#Count Fraud vs not-fraud transaction\n",
    "q2=\"\"\"\n",
    "SELECT Count(*) AS Count\n",
    "FROM\n",
    "credit_data \n",
    "GROUP BY\n",
    "Class\n",
    "\"\"\" \n",
    "rows_2=pd.read_sql(q2,conn)\n",
    "print(rows_2)"
   ]
  },
  {
   "cell_type": "code",
   "execution_count": 6,
   "id": "9cf0dfe6-0424-4b07-bb05-35b44737f894",
   "metadata": {},
   "outputs": [
    {
     "name": "stdout",
     "output_type": "stream",
     "text": [
      "   fraud_percent\n",
      "0           0.17\n"
     ]
    }
   ],
   "source": [
    "# percentage of Fraud Transaction\n",
    "q3=\"\"\"\n",
    "SELECT ROUND((SUM(CASE WHEN Class=1 THEN 1 ELSE 0 END)*100.0/COUNT(*)),2) AS fraud_percent\n",
    "FROM\n",
    "credit_data\n",
    "\"\"\"\n",
    "rows_3=pd.read_sql(q3,conn)\n",
    "print(rows_3)"
   ]
  },
  {
   "cell_type": "markdown",
   "id": "6d6aa8c0-6283-490a-b55a-65b6dc1f73f6",
   "metadata": {},
   "source": [
    "### The No. of Fraud Cases are very less among Total Transaction. The percentage is less than 1%\n"
   ]
  },
  {
   "cell_type": "code",
   "execution_count": 14,
   "id": "0bb74ef4-5471-430d-a405-c702b395c49e",
   "metadata": {},
   "outputs": [
    {
     "name": "stdout",
     "output_type": "stream",
     "text": [
      "   Total_Amount\n",
      "0   25162590.01\n"
     ]
    }
   ],
   "source": [
    "#Total Amount of Transaction \n",
    "q4=\"\"\"\n",
    "SELECT SUM(Amount) AS Total_Amount\n",
    "FROM\n",
    "credit_data \n",
    "\"\"\"\n",
    "rows_4=pd.read_sql(q4,conn)\n",
    "print(rows_4)"
   ]
  },
  {
   "cell_type": "code",
   "execution_count": 13,
   "id": "b70a5271-198c-435a-9f87-84a33264b652",
   "metadata": {},
   "outputs": [
    {
     "name": "stdout",
     "output_type": "stream",
     "text": [
      "   Total_Amount\n",
      "0   25102462.04\n",
      "1      60127.97\n"
     ]
    }
   ],
   "source": [
    "#Total Amount of Transaction in case of Fraud and Not-Fraud Transaction\n",
    "q5=\"\"\"\n",
    "SELECT SUM(Amount) AS Total_Amount\n",
    "FROM\n",
    "credit_data \n",
    "GROUP BY\n",
    "Class\n",
    "\"\"\"\n",
    "rows_5=pd.read_sql(q5,conn)\n",
    "print(rows_5)"
   ]
  },
  {
   "cell_type": "markdown",
   "id": "79b77cb4-b7c1-4436-be5e-6d0595377d1c",
   "metadata": {},
   "source": [
    "### In Case of Fraud Transaction, The Amount is very less than The Correct Transaction Amount"
   ]
  },
  {
   "cell_type": "code",
   "execution_count": 10,
   "id": "400f6c86-ef1e-4cfd-a7f2-36f9e6b75e03",
   "metadata": {},
   "outputs": [
    {
     "name": "stdout",
     "output_type": "stream",
     "text": [
      "   Max_Fraud_Amount\n",
      "0           2125.87\n"
     ]
    }
   ],
   "source": [
    "#Maximum Amount of Transaction in Fraud Cases\n",
    "q6=\"\"\"\n",
    "SELECT MAX(Amount) AS Max_Fraud_Amount\n",
    "FROM\n",
    "credit_data \n",
    "WHERE Class=1\n",
    "\"\"\"\n",
    "rows_6=pd.read_sql(q6,conn)\n",
    "print(rows_6)"
   ]
  },
  {
   "cell_type": "code",
   "execution_count": 21,
   "id": "6677f019-1d86-4b18-bed9-0c9b9171f60c",
   "metadata": {},
   "outputs": [
    {
     "name": "stdout",
     "output_type": "stream",
     "text": [
      "    Hour  fraud_count\n",
      "0      0            2\n",
      "1      1            2\n",
      "2      2           21\n",
      "3      3           13\n",
      "4      4            6\n",
      "5      5           11\n",
      "6      6            3\n",
      "7      7           23\n",
      "8      8            5\n",
      "9      9           15\n",
      "10    10            2\n",
      "11    11           43\n",
      "12    12            9\n",
      "13    13            9\n",
      "14    14           13\n",
      "15    15           14\n",
      "16    16           14\n",
      "17    17           12\n",
      "18    18           15\n",
      "19    19            7\n",
      "20    20            8\n",
      "21    21           14\n",
      "22    22            3\n",
      "23    23           17\n",
      "24    24            4\n",
      "25    25            8\n",
      "26    26           36\n",
      "27    27            4\n",
      "28    28           17\n",
      "29    30            6\n",
      "30    32            4\n",
      "31    33            1\n",
      "32    34            6\n",
      "33    35           10\n",
      "34    36            8\n",
      "35    37            8\n",
      "36    38           10\n",
      "37    39           12\n",
      "38    40            8\n",
      "39    41           17\n",
      "40    42           18\n",
      "41    43           12\n",
      "42    44           10\n",
      "43    45            2\n",
      "44    46            6\n",
      "45    47            4\n"
     ]
    }
   ],
   "source": [
    "# Total Fraud Transaction per Hour\n",
    "q7=\"\"\"\n",
    "SELECT CAST(Time/3600 AS INTEGER) AS Hour,\n",
    "    COUNT(*) AS fraud_count\n",
    "FROM \n",
    "credit_data\n",
    "WHERE Class=1\n",
    "GROUP BY CAST(Time/3600 AS INTEGER)\n",
    "ORDER BY Hour;\n",
    "\"\"\"\n",
    "rows_7=pd.read_sql(q7,conn)\n",
    "print(rows_7)"
   ]
  },
  {
   "cell_type": "markdown",
   "id": "5bddc9cb-11d2-4bdd-8af8-4bedb0454d1b",
   "metadata": {},
   "source": [
    "### We Can see Maximum Amount of Fraud Transactions Happened (1st day)From 11'o clock to 12'o clock. (43).\n",
    "### The Minimum Amount Of Fraud Transactions is only 1 that is (next day) 9'o clock to 10'o clock"
   ]
  },
  {
   "cell_type": "markdown",
   "id": "b547d03b-b6d8-4e62-8ef2-f7fd44e7cf2e",
   "metadata": {},
   "source": [
    "### Some Features Analysis. Generally Vi(i=1 to 28 ) PCA features values are between -3 to  +3. We generally consider < -5 is extreme case. So We have to see the relation between Fraud Transaction and PCA feature with extreme outliers. We have randomly chosen some features to examine."
   ]
  },
  {
   "cell_type": "code",
   "execution_count": 5,
   "id": "80711eee-58e7-4d89-8723-30f8807b90c4",
   "metadata": {},
   "outputs": [
    {
     "name": "stdout",
     "output_type": "stream",
     "text": [
      "   TOTAL_EXTREME_V1\n",
      "0              5037\n",
      "1               150\n"
     ]
    }
   ],
   "source": [
    "#Count transaction where V1 <-5(Extreme PCA feature)\n",
    "q8=\"\"\"\n",
    "SELECT COUNT(*) AS TOTAL_EXTREME_V1 FROM\n",
    "credit_data \n",
    "WHERE V1<-5\n",
    "GROUP BY Class\n",
    "\"\"\"\n",
    "rows_8=pd.read_sql(q8,conn)\n",
    "print(rows_8)"
   ]
  },
  {
   "cell_type": "code",
   "execution_count": 6,
   "id": "17810d81-5aa9-4e35-aaf8-2c2248c21e50",
   "metadata": {},
   "outputs": [
    {
     "name": "stdout",
     "output_type": "stream",
     "text": [
      "   TOTAL_EXTREME_V5\n",
      "0               922\n",
      "1               115\n"
     ]
    }
   ],
   "source": [
    "#Count transaction where V5 <-5(Extreme PCA feature)\n",
    "q9=\"\"\"\n",
    "SELECT COUNT(*) AS TOTAL_EXTREME_V5 FROM\n",
    "credit_data \n",
    "WHERE V5<-5\n",
    "GROUP BY Class\n",
    "\"\"\"\n",
    "rows_9=pd.read_sql(q9,conn)\n",
    "print(rows_9)"
   ]
  },
  {
   "cell_type": "code",
   "execution_count": 7,
   "id": "6b1aa890-b1b5-4c7c-b5e5-e76717c98127",
   "metadata": {},
   "outputs": [
    {
     "name": "stdout",
     "output_type": "stream",
     "text": [
      "   TOTAL_EXTREME_V14\n",
      "0                217\n",
      "1                324\n"
     ]
    }
   ],
   "source": [
    "#Count transaction where V14 <-5(Extreme PCA feature)\n",
    "q10=\"\"\"\n",
    "SELECT COUNT(*) AS TOTAL_EXTREME_V14 FROM\n",
    "credit_data \n",
    "WHERE V14<-5\n",
    "GROUP BY Class\n",
    "\"\"\"\n",
    "rows_10=pd.read_sql(q10,conn)\n",
    "print(rows_10)"
   ]
  },
  {
   "cell_type": "code",
   "execution_count": 13,
   "id": "d3a775ba-055d-4eec-8214-b8625e2ec06a",
   "metadata": {},
   "outputs": [
    {
     "name": "stdout",
     "output_type": "stream",
     "text": [
      "Empty DataFrame\n",
      "Columns: [TOTAL_EXTREME_V26_Negative]\n",
      "Index: []\n"
     ]
    }
   ],
   "source": [
    "#Count transaction where V26 <-5(Extreme PCA feature)\n",
    "q11=\"\"\"\n",
    "SELECT COUNT(*) AS TOTAL_EXTREME_V26_Negative FROM\n",
    "credit_data \n",
    "WHERE V26<-5\n",
    "GROUP BY Class\n",
    "\"\"\"\n",
    "rows_11=pd.read_sql(q11,conn)\n",
    "print(rows_11)"
   ]
  },
  {
   "cell_type": "code",
   "execution_count": 14,
   "id": "50f80421-d21c-4046-9af9-ef6551577fa0",
   "metadata": {},
   "outputs": [
    {
     "name": "stdout",
     "output_type": "stream",
     "text": [
      "Empty DataFrame\n",
      "Columns: [TOTAL_EXTREME_V26_Positive]\n",
      "Index: []\n"
     ]
    }
   ],
   "source": [
    "#Count transaction where V26 >5(Extreme PCA feature)\n",
    "q11=\"\"\"\n",
    "SELECT COUNT(*) AS TOTAL_EXTREME_V26_Positive FROM\n",
    "credit_data \n",
    "WHERE V26>5\n",
    "GROUP BY Class\n",
    "\"\"\"\n",
    "rows_11=pd.read_sql(q11,conn)\n",
    "print(rows_11)"
   ]
  },
  {
   "cell_type": "markdown",
   "id": "7a1a6c92-116d-405d-8895-095bcd0b3c22",
   "metadata": {},
   "source": [
    "### After Examining some features. It is clearly seen that feature V14 is a very strong feature. 324 out of 492 fraud cases , having this feature <-5. On the other hand we got a feature which is V26 which has no impact at all cause it has no extreme values."
   ]
  },
  {
   "cell_type": "code",
   "execution_count": null,
   "id": "4e51b6ab-89cd-4cc5-864a-39027571d2ae",
   "metadata": {},
   "outputs": [],
   "source": []
  }
 ],
 "metadata": {
  "kernelspec": {
   "display_name": "Python 3 (ipykernel)",
   "language": "python",
   "name": "python3"
  },
  "language_info": {
   "codemirror_mode": {
    "name": "ipython",
    "version": 3
   },
   "file_extension": ".py",
   "mimetype": "text/x-python",
   "name": "python",
   "nbconvert_exporter": "python",
   "pygments_lexer": "ipython3",
   "version": "3.12.7"
  }
 },
 "nbformat": 4,
 "nbformat_minor": 5
}
